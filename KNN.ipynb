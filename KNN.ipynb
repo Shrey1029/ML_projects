{
 "cells": [
  {
   "cell_type": "code",
   "execution_count": 1,
   "id": "6d94e634-f6ac-44db-8e44-75a5b2ffaae8",
   "metadata": {},
   "outputs": [],
   "source": [
    "import math\n",
    "from collections import Counter\n",
    "from sklearn.model_selection import train_test_split\n",
    "from sklearn.datasets import load_iris"
   ]
  },
  {
   "cell_type": "markdown",
   "id": "d81a39f0-b01c-48c0-a389-d60441a8d760",
   "metadata": {},
   "source": [
    "### Load The Iris Dataset and also do train test split"
   ]
  },
  {
   "cell_type": "code",
   "execution_count": 2,
   "id": "baa23611-8413-4645-8b18-b575f8b42bda",
   "metadata": {},
   "outputs": [],
   "source": [
    "def load_data():\n",
    "    iris = load_iris()\n",
    "    X, y = iris.data, iris.target\n",
    "    return train_test_split(X, y, test_size=0.3, random_state=42)"
   ]
  },
  {
   "cell_type": "markdown",
   "id": "96f09d46-269f-4dda-9d84-77c3ec24423c",
   "metadata": {},
   "source": [
    "### Find the Eucledian Distance"
   ]
  },
  {
   "cell_type": "code",
   "execution_count": 3,
   "id": "b8cc4790-1bd4-4f0e-812f-e8563e7f88b3",
   "metadata": {},
   "outputs": [],
   "source": [
    "def euclidean_distance(point1, point2):\n",
    "    return math.sqrt(sum((x - y) ** 2 for x, y in zip(point1, point2)))"
   ]
  },
  {
   "cell_type": "markdown",
   "id": "9398ec6b-b4dd-4336-9439-f0dcfd1b46c8",
   "metadata": {},
   "source": [
    "### KNN"
   ]
  },
  {
   "cell_type": "code",
   "execution_count": 4,
   "id": "113a9588-346a-44f4-a1a1-08f086e6cf5e",
   "metadata": {},
   "outputs": [],
   "source": [
    "def knn(X_train, y_train, test_point, k=3):\n",
    "    distances = []\n",
    "    # Calculate distance between test_point and all training points\n",
    "    for i, train_point in enumerate(X_train):\n",
    "        distance = euclidean_distance(test_point, train_point)\n",
    "        distances.append((distance, y_train[i]))\n",
    "    \n",
    "    # Sort by distance and get the nearest k neighbors\n",
    "    distances.sort(key=lambda x: x[0])\n",
    "    k_nearest_neighbors = distances[:k]\n",
    "    \n",
    "    # Get the labels of the k nearest neighbors and return the majority class\n",
    "    labels = [label for _, label in k_nearest_neighbors]\n",
    "    majority_vote = Counter(labels).most_common(1)[0][0]\n",
    "    return majority_vote"
   ]
  },
  {
   "cell_type": "markdown",
   "id": "02d5b66b-5ee1-42d7-83a1-79daa8e8b26d",
   "metadata": {},
   "source": [
    "### Weighted KNN"
   ]
  },
  {
   "cell_type": "code",
   "execution_count": 5,
   "id": "6807fedf-8e64-4020-9dd2-1c052244cf78",
   "metadata": {},
   "outputs": [],
   "source": [
    "def weighted_knn(X_train, y_train, test_point, k=3):\n",
    "    distances = []\n",
    "    # Calculate distance between test_point and all training points\n",
    "    for i, train_point in enumerate(X_train):\n",
    "        distance = euclidean_distance(test_point, train_point)\n",
    "        distances.append((distance, y_train[i]))\n",
    "    \n",
    "    # Sort by distance and get the nearest k neighbors\n",
    "    distances.sort(key=lambda x: x[0])\n",
    "    k_nearest_neighbors = distances[:k]\n",
    "    \n",
    "    # Weighted voting: inversely proportional to distance\n",
    "    weights = {}\n",
    "    for distance, label in k_nearest_neighbors:\n",
    "        if distance == 0:  # Avoid division by zero\n",
    "            weight = float('inf')\n",
    "        else:\n",
    "            weight = 1 / distance\n",
    "        if label in weights:\n",
    "            weights[label] += weight\n",
    "        else:\n",
    "            weights[label] = weight\n",
    "\n",
    "    # Return the class with the highest weighted vote\n",
    "    return max(weights, key=weights.get)"
   ]
  },
  {
   "cell_type": "markdown",
   "id": "47cf7785-9318-4702-8e9c-6f5c28b5814c",
   "metadata": {},
   "source": [
    "### Predict Function to predict the result"
   ]
  },
  {
   "cell_type": "code",
   "execution_count": 6,
   "id": "ec79a328-f49f-401a-b808-5e2ab29707f0",
   "metadata": {},
   "outputs": [],
   "source": [
    "def predict(X_train, y_train, X_test, k=3, weighted=False):\n",
    "    predictions = []\n",
    "    for test_point in X_test:\n",
    "        if weighted:\n",
    "            predictions.append(weighted_knn(X_train, y_train, test_point, k))\n",
    "        else:\n",
    "            predictions.append(knn(X_train, y_train, test_point, k))\n",
    "    return predictions"
   ]
  },
  {
   "cell_type": "code",
   "execution_count": 7,
   "id": "cbfd83c3-e85a-4f83-901f-ac74c65d88e4",
   "metadata": {},
   "outputs": [],
   "source": [
    "def accuracy(y_true, y_pred):\n",
    "    correct = sum(y1 == y2 for y1, y2 in zip(y_true, y_pred))\n",
    "    return correct / len(y_true)"
   ]
  },
  {
   "cell_type": "markdown",
   "id": "f3705727-8c19-4b53-b1d0-ebffc5c15fc1",
   "metadata": {},
   "source": [
    "### Main Function to run all the functions"
   ]
  },
  {
   "cell_type": "code",
   "execution_count": 10,
   "id": "26a08822-d5c1-458a-a77f-ff175ccb571e",
   "metadata": {},
   "outputs": [
    {
     "name": "stdout",
     "output_type": "stream",
     "text": [
      "KNN Accuracy: 100.00%\n",
      "Weighted KNN Accuracy: 100.00%\n"
     ]
    }
   ],
   "source": [
    "if __name__ == \"__main__\":\n",
    "    X_train, X_test, y_train, y_test = load_data()\n",
    "    \n",
    "    # KNN Prediction\n",
    "    knn_predictions = predict(X_train, y_train, X_test, k=3, weighted=False)\n",
    "    knn_acc = accuracy(y_test, knn_predictions)\n",
    "    print(f\"KNN Accuracy: {knn_acc * 100:.2f}%\")\n",
    "\n",
    "    # Weighted KNN Prediction\n",
    "    weighted_knn_predictions = predict(X_train, y_train, X_test, k=3, weighted=True)\n",
    "    weighted_knn_acc = accuracy(y_test, weighted_knn_predictions)\n",
    "    print(f\"Weighted KNN Accuracy: {weighted_knn_acc * 100:.2f}%\")"
   ]
  }
 ],
 "metadata": {
  "kernelspec": {
   "display_name": "Python 3 (ipykernel)",
   "language": "python",
   "name": "python3"
  },
  "language_info": {
   "codemirror_mode": {
    "name": "ipython",
    "version": 3
   },
   "file_extension": ".py",
   "mimetype": "text/x-python",
   "name": "python",
   "nbconvert_exporter": "python",
   "pygments_lexer": "ipython3",
   "version": "3.10.9"
  }
 },
 "nbformat": 4,
 "nbformat_minor": 5
}
